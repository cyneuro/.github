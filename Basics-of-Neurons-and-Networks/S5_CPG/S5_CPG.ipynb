{
  "cells": [
    {
      "cell_type": "markdown",
      "metadata": {
        "id": "IvbcLLLQ4AFG"
      },
      "source": [
        "***Link to Colab of Notebook Solutions***\n",
        "https://colab.research.google.com/github/cyneuro/Notebook-Solutions/blob/main/Basics-of-Neurons-and-Networks/S5_CPG/S5_CPG.ipynb"
      ]
    },
    {
      "cell_type": "markdown",
      "metadata": {
        "id": "L7kWuNhqywnp"
      },
      "source": [
        "# S5 How do tetrapods decid when to walk, trot or gallop\n",
        "\n",
        "##### Developed in the Neural Engineering Laboratory at the University of Missouri(Mizzou) adapted from a similar GENESIS tutorial (Bower and Beeman, 2007) by Charlie Franklin and Henry Chen, converted to notebook by Ziao Chen and Zhenru Chen\n",
        "##### To run code either click the play button by each code block or go to the top and select run all or runtime then run all"
      ]
    },
    {
      "cell_type": "markdown",
      "metadata": {
        "id": "jkRCIQybywnv"
      },
      "source": [
        "## Install NEURON"
      ]
    },
    {
      "cell_type": "code",
      "execution_count": null,
      "metadata": {
        "id": "-PrPZKtNywnx"
      },
      "outputs": [],
      "source": [
        "RunningInCOLAB = 'google.colab' in str(get_ipython())  # checks to see if we are in google colab\n",
        "if RunningInCOLAB:                                     # installs packages if in colab\n",
        "    !pip install ipywidgets &> /dev/null\n",
        "    !pip install neuron &> /dev/null"
      ]
    },
    {
      "cell_type": "markdown",
      "metadata": {
        "id": "WyZd6m5Gy_Gh"
      },
      "source": [
        "### Download modfiles from github"
      ]
    },
    {
      "cell_type": "code",
      "execution_count": null,
      "metadata": {
        "id": "KaACiGkKzBOB"
      },
      "outputs": [],
      "source": [
        "import os\n",
        "from os.path import normpath, sep, join\n",
        "\n",
        "root = 'Computational-Neuroscience-Tutorials'\n",
        "folder = 'S5_CPG'\n",
        "pathlist = normpath(os.getcwd()).split(sep)\n",
        "if pathlist[-1] != folder:\n",
        "  rootidx = pathlist.index(root) if root in pathlist else -1\n",
        "  if rootidx>0:\n",
        "    os.chdir(join(sep,*pathlist[:rootidx]))\n",
        "  !git clone https://github.com/cyneuro/Computational-Neuroscience-Tutorials.git &> /dev/null\n",
        "  os.chdir(join(root,folder))"
      ]
    },
    {
      "cell_type": "markdown",
      "metadata": {
        "id": "qoXkid_-zGRd"
      },
      "source": [
        "#### Before running the simulation, you need to compile the mod files only once for the first time."
      ]
    },
    {
      "cell_type": "code",
      "execution_count": null,
      "metadata": {
        "colab": {
          "base_uri": "https://localhost:8080/"
        },
        "id": "_mwkvvdRywn2",
        "outputId": "1a836871-e602-4e12-f666-17d739679865",
        "scrolled": false
      },
      "outputs": [
        {
          "name": "stderr",
          "output_type": "stream",
          "text": [
            "/Users/gregglickert/opt/anaconda3/envs/bmtk/bin/nrnivmodl:10: DeprecationWarning: pkg_resources is deprecated as an API. See https://setuptools.pypa.io/en/latest/pkg_resources.html\n",
            "  from pkg_resources import working_set\n"
          ]
        },
        {
          "name": "stdout",
          "output_type": "stream",
          "text": [
            "/usr/bin/xcrun\n",
            "/Users/gregglickert/Documents/GitHub/Computational-Neuroscience-Tutorials/S5_CPG\n",
            "Mod files: \"./extsyn.mod\" \"./inhsyn.mod\" \"./k.mod\" \"./leak.mod\" \"./na.mod\"\n",
            "\n",
            "Creating 'x86_64' directory for .o files.\n",
            "\n",
            " -> \u001b[32mCompiling\u001b[0m mod_func.cpp\n",
            " -> \u001b[32mNMODL\u001b[0m ../k.mod\n",
            " -> \u001b[32mNMODL\u001b[0m ../extsyn.mod\n",
            " -> \u001b[32mNMODL\u001b[0m ../inhsyn.mod\n",
            " -> \u001b[32mNMODL\u001b[0m ../leak.mod\n",
            " -> \u001b[32mNMODL\u001b[0m ../na.mod\n",
            " -> \u001b[32mCompiling\u001b[0m extsyn.c\n",
            " -> \u001b[32mCompiling\u001b[0m inhsyn.c\n",
            " -> \u001b[32mCompiling\u001b[0m k.c\n"
          ]
        },
        {
          "name": "stderr",
          "output_type": "stream",
          "text": [
            "Translating k.mod into /Users/gregglickert/Documents/GitHub/Computational-Neuroscience-Tutorials/S5_CPG/x86_64/k.c\n",
            "Translating extsyn.mod into /Users/gregglickert/Documents/GitHub/Computational-Neuroscience-Tutorials/S5_CPG/x86_64/extsyn.c\n",
            "Translating inhsyn.mod into /Users/gregglickert/Documents/GitHub/Computational-Neuroscience-Tutorials/S5_CPG/x86_64/inhsyn.c\n",
            "Thread Safe\n",
            "Thread Safe\n",
            "Thread Safe\n",
            "Translating leak.mod into /Users/gregglickert/Documents/GitHub/Computational-Neuroscience-Tutorials/S5_CPG/x86_64/leak.c\n",
            "Translating na.mod into /Users/gregglickert/Documents/GitHub/Computational-Neuroscience-Tutorials/S5_CPG/x86_64/na.c\n",
            "Thread Safe\n",
            "Thread Safe\n",
            "k.c:43:18: warning: a function declaration without a prototype is deprecated in all versions of C and is treated as a zero-parameter prototype in C2x, conflicting with a previous declaration [-Wdeprecated-non-prototype]\n",
            "         extern double *getarg();\n",
            "                        ^\n",
            "/Users/gregglickert/opt/anaconda3/envs/bmtk/lib/python3.8/site-packages/neuron/.data/include/hocdec.h:15:17: note: expanded from macro 'getarg'\n",
            "#define getarg  hoc_getarg\n",
            "                ^\n",
            "/Users/gregglickert/opt/anaconda3/envs/bmtk/lib/python3.8/site-packages/neuron/.data/include/oc_ansi.h:49:16: note: conflicting prototype is here\n",
            "extern double* getarg(int);\n",
            "               ^\n",
            "/Users/gregglickert/opt/anaconda3/envs/bmtk/lib/python3.8/site-packages/neuron/.data/include/hocdec.h:15:17: note: expanded from macro 'getarg'\n",
            "#define getarg  hoc_getarg\n",
            "                ^\n",
            "inhsyn.c:42:18: warning: a function declaration without a prototype is deprecated in all versions of C and is treated as a zero-parameter prototype in C2x, conflicting with a previous declaration [-Wdeprecated-non-prototype]\n",
            "         extern double *getarg();\n",
            "                        ^\n",
            "/Users/gregglickert/opt/anaconda3/envs/bmtk/lib/python3.8/site-packages/neuron/.data/include/hocdec.h:15:17: note: expanded from macro 'getarg'\n",
            "#define getarg  hoc_getarg\n",
            "                ^\n",
            "/Users/gregglickert/opt/anaconda3/envs/bmtk/lib/python3.8/site-packages/neuron/.data/include/oc_ansi.h:49:16: note: conflicting prototype is here\n",
            "extern double* getarg(int);\n",
            "               ^\n",
            "/Users/gregglickert/opt/anaconda3/envs/bmtk/lib/python3.8/site-packages/neuron/.data/include/hocdec.h:15:17: note: expanded from macro 'getarg'\n",
            "#define getarg  hoc_getarg\n",
            "                ^\n",
            "extsyn.c:42:18: warning: a function declaration without a prototype is deprecated in all versions of C and is treated as a zero-parameter prototype in C2x, conflicting with a previous declaration [-Wdeprecated-non-prototype]\n",
            "         extern double *getarg();\n",
            "                        ^\n",
            "/Users/gregglickert/opt/anaconda3/envs/bmtk/lib/python3.8/site-packages/neuron/.data/include/hocdec.h:15:17: note: expanded from macro 'getarg'\n",
            "#define getarg  hoc_getarg\n",
            "                ^\n",
            "/Users/gregglickert/opt/anaconda3/envs/bmtk/lib/python3.8/site-packages/neuron/.data/include/oc_ansi.h:49:16: note: conflicting prototype is here\n",
            "extern double* getarg(int);\n",
            "               ^\n",
            "/Users/gregglickert/opt/anaconda3/envs/bmtk/lib/python3.8/site-packages/neuron/.data/include/hocdec.h:15:17: note: expanded from macro 'getarg'\n",
            "#define getarg  hoc_getarg\n",
            "                ^\n",
            "extsyn.c:295:32: warning: a function declaration without a prototype is deprecated in all versions of C and is treated as a zero-parameter prototype in C2x, conflicting with a previous declaration [-Wdeprecated-non-prototype]\n",
            "  if (_tsav > t){ extern char* hoc_object_name(); hoc_execerror(hoc_object_name(_pnt->ob), \":Event arrived out of order. Must call ParallelContext.set_maxstep AFTER assigning minimum NetCon.delay\");}\n",
            "                               ^\n",
            "/Users/gregglickert/opt/anaconda3/envs/bmtk/lib/python3.8/site-packages/neuron/.data/include/oc_ansi.h:46:14: note: conflicting prototype is here\n",
            "extern char* hoc_object_name(Object*);\n",
            "             ^\n",
            "inhsyn.c:295:32: warning: a function declaration without a prototype is deprecated in all versions of C and is treated as a zero-parameter prototype in C2x, conflicting with a previous declaration [-Wdeprecated-non-prototype]\n",
            "  if (_tsav > t){ extern char* hoc_object_name(); hoc_execerror(hoc_object_name(_pnt->ob), \":Event arrived out of order. Must call ParallelContext.set_maxstep AFTER assigning minimum NetCon.delay\");}\n",
            "                               ^\n",
            "/Users/gregglickert/opt/anaconda3/envs/bmtk/lib/python3.8/site-packages/neuron/.data/include/oc_ansi.h:46:14: note: conflicting prototype is here\n",
            "extern char* hoc_object_name(Object*);\n",
            "             ^\n",
            "2 warnings generated.\n",
            "2 warnings generated.\n",
            "1 warning generated.\n",
            "leak.c:41:18: warning: a function declaration without a prototype is deprecated in all versions of C and is treated as a zero-parameter prototype in C2x, conflicting with a previous declaration [-Wdeprecated-non-prototype]\n",
            "         extern double *getarg();\n",
            "                        ^\n",
            "/Users/gregglickert/opt/anaconda3/envs/bmtk/lib/python3.8/site-packages/neuron/.data/include/hocdec.h:15:17: note: expanded from macro 'getarg'\n",
            "#define getarg  hoc_getarg\n",
            "                ^\n",
            "/Users/gregglickert/opt/anaconda3/envs/bmtk/lib/python3.8/site-packages/neuron/.data/include/oc_ansi.h:49:16: note: conflicting prototype is here\n",
            "extern double* getarg(int);\n",
            "               ^\n",
            "/Users/gregglickert/opt/anaconda3/envs/bmtk/lib/python3.8/site-packages/neuron/.data/include/hocdec.h:15:17: note: expanded from macro 'getarg'\n",
            "#define getarg  hoc_getarg\n",
            "                ^\n"
          ]
        },
        {
          "name": "stdout",
          "output_type": "stream",
          "text": [
            " -> \u001b[32mCompiling\u001b[0m leak.c\n",
            " -> \u001b[32mCompiling\u001b[0m na.c\n"
          ]
        },
        {
          "name": "stderr",
          "output_type": "stream",
          "text": [
            "1 warning generated.\n",
            "na.c:43:18: warning: a function declaration without a prototype is deprecated in all versions of C and is treated as a zero-parameter prototype in C2x, conflicting with a previous declaration [-Wdeprecated-non-prototype]\n",
            "         extern double *getarg();\n",
            "                        ^\n",
            "/Users/gregglickert/opt/anaconda3/envs/bmtk/lib/python3.8/site-packages/neuron/.data/include/hocdec.h:15:17: note: expanded from macro 'getarg'\n",
            "#define getarg  hoc_getarg\n",
            "                ^\n",
            "/Users/gregglickert/opt/anaconda3/envs/bmtk/lib/python3.8/site-packages/neuron/.data/include/oc_ansi.h:49:16: note: conflicting prototype is here\n",
            "extern double* getarg(int);\n",
            "               ^\n",
            "/Users/gregglickert/opt/anaconda3/envs/bmtk/lib/python3.8/site-packages/neuron/.data/include/hocdec.h:15:17: note: expanded from macro 'getarg'\n",
            "#define getarg  hoc_getarg\n",
            "                ^\n",
            "1 warning generated.\n"
          ]
        },
        {
          "name": "stdout",
          "output_type": "stream",
          "text": [
            " => \u001b[32mLINKING\u001b[0m shared library ./libnrnmech.dylib\n",
            " => \u001b[32mLINKING\u001b[0m executable ./special LDFLAGS are:    \n",
            "Successfully created x86_64/special\n",
            "0\n"
          ]
        },
        {
          "name": "stderr",
          "output_type": "stream",
          "text": [
            "ld: warning: ignoring duplicate libraries: '-lnrnmech'\n"
          ]
        }
      ],
      "source": [
        "import os\n",
        "print(os.system('nrnivmodl')) # compile modfiles. Return 0 for success, 1 for failure."
      ]
    },
    {
      "cell_type": "markdown",
      "metadata": {
        "id": "3KDQukbvywn6"
      },
      "source": [
        "### Run the codes below and answer the 10 questions at the end."
      ]
    },
    {
      "cell_type": "code",
      "execution_count": null,
      "metadata": {
        "id": "GUTODP46ywn_",
        "scrolled": false
      },
      "outputs": [],
      "source": [
        "import matplotlib.pyplot as plt\n",
        "import numpy as np\n",
        "from neuron import h\n",
        "h.load_file('stdrun.hoc')\n",
        "\n",
        "# Simulation parameters\n",
        "h.dt = 0.025 # time step (resolution) of the simulation in ms\n",
        "h.v_init= -72 # initial membrane potential in mV\n",
        "h.tstop = 1000 # ms\n",
        "\n",
        "# Single cell model\n",
        "class CPGCell(object):\n",
        "    def __init__(self):\n",
        "        # Create cections\n",
        "        self.soma = h.Section(name='soma', cell=self)\n",
        "        self.dend = h.Section(name='dend', cell=self)\n",
        "        # Topology\n",
        "        self.dend.connect(self.soma(1),0)\n",
        "        # Geometry\n",
        "        self.soma.L = self.soma.diam = 30 # micrometers\n",
        "        self.soma.nseg = 1\n",
        "        self.dend.L = 100 # micrometers\n",
        "        self.dend.diam = 2 # micrometers\n",
        "        self.dend.nseg = 1\n",
        "        # biophysics\n",
        "        self.soma.cm = self.dend.cm = 1 # uF/cm2\n",
        "        self.soma.Ra = self.dend.Ra = 50 # ohm-cm\n",
        "        self.soma.insert('leak'); self.soma.insert('na'); self.soma.insert('k')\n",
        "        self.soma.el_leak = -59.4; self.soma.ena = 45; self.soma.ek = -82 # mV\n",
        "        self.soma.gbar_leak = 1/10000; self.soma.gbar_na = .120; self.soma.gbar_k = .036 # S/cm2\n",
        "        self.dend.insert('leak')\n",
        "        self.dend.el_leak = -59.4; self.dend.gbar_leak = 1/10000\n",
        "        # insert IClamp\n",
        "        self.ccl = h.IClamp(self.soma(0.5))\n",
        "\n",
        "    def set_ccl(self,amp,dur,delay):\n",
        "        self.ccl.amp = amp\n",
        "        self.ccl.dur = dur\n",
        "        self.ccl.delay = delay\n",
        "\n",
        "\n",
        "# Cell list\n",
        "NCell = 4\n",
        "Cells = []\n",
        "CName = ['L1','L2','R1','R2']\n",
        "for i in range(NCell): Cells.append(CPGCell())\n",
        "\n",
        "# Define vectors for recording variables and record\n",
        "t_vec = h.Vector()\n",
        "t_vec.record(h._ref_t);\n",
        "v_vec = []\n",
        "for cell in Cells:\n",
        "    v_vec.append(h.Vector())\n",
        "    v_vec[-1].record(cell.soma(0.5)._ref_v)"
      ]
    },
    {
      "cell_type": "code",
      "execution_count": null,
      "metadata": {
        "id": "KlznmToLywoB",
        "scrolled": true
      },
      "outputs": [],
      "source": [
        "# Synapse default setting\n",
        "syn_wgt = 100\n",
        "syn_del = 15\n",
        "threshold = 0\n",
        "\n",
        "# Synapse connection object\n",
        "class SynapseConnect(object):\n",
        "    def __init__(self,pre_id,post_id):\n",
        "        self.pre = pre_id; self.post = post_id\n",
        "        self.extsyn = None; self.extnc = None\n",
        "        self.inhsyn = None; self.inhnc = None\n",
        "\n",
        "# Create synaptic connection\n",
        "SynCon = []\n",
        "for i in range(NCell):\n",
        "    for j in range(NCell):\n",
        "        if i!=j:\n",
        "            SynCon.append(SynapseConnect(i,j))\n",
        "            SynCon[-1].extsyn = h.ext(Cells[j].dend(0.5))\n",
        "            SynCon[-1].extnc = h.NetCon(Cells[i].soma(0.5)._ref_v,SynCon[-1].extsyn,threshold,syn_del,1,sec=Cells[i].soma)\n",
        "            SynCon[-1].extsyn.eext = 0;   SynCon[-1].extsyn.tau = 3\n",
        "            SynCon[-1].inhsyn = h.inh(Cells[j].dend(0.5))\n",
        "            SynCon[-1].inhnc = h.NetCon(Cells[i].soma(0.5)._ref_v,SynCon[-1].inhsyn,threshold,syn_del,1,sec=Cells[i].soma)\n",
        "            SynCon[-1].inhsyn.einh = -75; SynCon[-1].inhsyn.tau = 25\n",
        "\n",
        "# Set up current clamp\n",
        "def set_iclamp(ccl_config):\n",
        "    for i, cell in enumerate(Cells):\n",
        "        cell.set_ccl(*ccl_config[i])\n",
        "\n",
        "# Connect cells with synaptic weight and synaptic delay\n",
        "def connect_cells(conn_matrix,exc_wgt=syn_wgt,inh_wgt=syn_wgt,syn_delay=None):\n",
        "    for syn in SynCon:\n",
        "        syntype = conn_matrix[syn.pre,syn.post]\n",
        "        syn.extsyn.w = exc_wgt if syntype>0 else 0\n",
        "        syn.inhsyn.w = inh_wgt if syntype<0 else 0\n",
        "        if syn_delay is not None:\n",
        "            syn.extnc.delay = syn.inhnc.delay = syn_delay"
      ]
    },
    {
      "cell_type": "code",
      "execution_count": null,
      "metadata": {
        "id": "hMzCLxUOywoK",
        "scrolled": false
      },
      "outputs": [],
      "source": [
        "# Preset patterns\n",
        "Gaits = ['Wave of Action','Walk','Trot','Pace (For you to do)']\n",
        "# Current clamp configurations of Patterns. (amp,dur,delay)\n",
        "Ccl_Config = {\n",
        "    Gaits[0]: np.array([[0.2,0,0,0],[5]*NCell,[100]*NCell]).T,\n",
        "    Gaits[1]: np.array([[0,0.2,0,0],[5]*NCell,[100]*NCell]).T,\n",
        "    Gaits[2]: np.array([[0.2]*NCell,[5]*NCell,[100,110,110,100]]).T,\n",
        "    Gaits[3]: np.array([[0.2]*NCell,[5]*NCell,[100,100,100,100]]).T\n",
        "}\n",
        "# Connection Matrix of Patterns\n",
        "Conn_Matrix = {\n",
        "    Gaits[0]: np.array([[0,1,0,0],[1,0,1,0],[0,1,0,1],[0,0,1,0]]),\n",
        "    Gaits[1]: np.array([[0,-1,-1,1],[1,0,-1,-1],[-1,1,0,-1],[-1,-1,1,0]]),\n",
        "    Gaits[2]: np.array([[0,-1,-1,1],[-1,0,1,-1],[-1,1,0,-1],[1,-1,-1,0]]),\n",
        "    Gaits[3]: np.zeros((NCell,NCell))\n",
        "}\n",
        "# Initialize\n",
        "CCL = [[0]*3 for i in range(NCell)]\n",
        "CONN = np.zeros((NCell,NCell))\n",
        "\n",
        "# Synapse Connection Graph properties\n",
        "r = 1\n",
        "pos = np.array([[-1,-1,1,1],[1,-1,1,-1]]).T*2*r\n",
        "arr = np.zeros((4,4,4))\n",
        "g = 0.05*r\n",
        "for i in range(4):\n",
        "    for j in range(4):\n",
        "        if i!=j:\n",
        "            d = pos[j]-pos[i]\n",
        "            L = np.linalg.norm(d)\n",
        "            arr[i,j,:2] = pos[i]+(r+g)/L*d+0.2*r*d[::-1]/L*[-1,1]\n",
        "            arr[i,j,2:] = (1-2*(r+g)/L)*d\n",
        "inh_style={'length_includes_head':True,'linewidth':0,'width':0.15,'head_length':0.2,'head_width':0.4,'overhang':-0.8,'color':'b'}\n",
        "ext_style={'length_includes_head':True,'linewidth':0,'width':0.15,'head_length':0.2,'head_width':0.6,'overhang':-0.1,'color':'r'}"
      ]
    },
    {
      "cell_type": "code",
      "execution_count": null,
      "metadata": {
        "id": "2j4bHpu_ywoL",
        "scrolled": false,
        "outputId": "50aacb54-7962-4139-ad15-4475ae1410bd"
      },
      "outputs": [
        {
          "data": {
            "image/png": "[encoded data removed]",
            "text/plain": [
              "<Figure size 1500x800 with 3 Axes>"
            ]
          },
          "metadata": {},
          "output_type": "display_data"
        }
      ],
      "source": [
        "# Generate variable name\n",
        "def Var(varname,*index):\n",
        "    for ind in index:\n",
        "        varname += '_'+str(ind)\n",
        "    return(varname)\n",
        "\n",
        "# Create plots\n",
        "plt.ioff()\n",
        "fig = plt.figure(figsize=(15,2*NCell))\n",
        "ax = fig.add_subplot(241)\n",
        "ax2 = plt.subplot2grid((2,4),(0,1),rowspan=1,colspan=3)\n",
        "ax3 = fig.add_subplot(212)\n",
        "\n",
        "# Draw network connection\n",
        "def plot_net(**kw):\n",
        "    for i in range(NCell):\n",
        "        for j in range(NCell):\n",
        "            if i!=j: CONN[i,j] = kw[Var('syn',i,j)]\n",
        "    ax.clear()\n",
        "    ax.set_xlim(-3*r,3*r)\n",
        "    ax.set_ylim(-3.3*r,3.3*r)\n",
        "    ax.set_axis_off()\n",
        "    for i in range(4):\n",
        "        ax.add_artist(plt.Circle(pos[i],1))\n",
        "        ax.text(pos[i,0]-0.4,pos[i,1]-0.2,CName[i],fontsize=18,color='w')\n",
        "    for i in range(4):\n",
        "        for j in range(4):\n",
        "            if CONN[i,j]>0: ax.arrow(*arr[i,j,:].tolist(),**ext_style)\n",
        "            if CONN[i,j]<0: ax.arrow(*arr[i,j,:].tolist(),**inh_style)\n",
        "    display(ax.figure)\n",
        "\n",
        "# Build network\n",
        "def build_net():\n",
        "    for i in range(NCell):\n",
        "        CCL[i] = [w_ccl_amp[i].value,w_ccl_dur[i].value,w_ccl_del[i].value]\n",
        "    set_iclamp(CCL)\n",
        "    connect_cells(CONN,exc_wgt=w_exc_wgt.value,inh_wgt=w_inh_wgt.value,syn_delay=w_syn_del.value)\n",
        "\n",
        "# Plot membran potentials\n",
        "def plot_variables(*arg):\n",
        "    build_net()\n",
        "    h.run()\n",
        "    ax2.clear()\n",
        "    for i in range(NCell):\n",
        "        ax2.plot(t_vec,v_vec[i].as_numpy()+150*(NCell-1-i))\n",
        "    ax2.set_xlim(0,h.tstop)\n",
        "    ax2.set_ylim(-100,NCell*150)\n",
        "    ax2.legend(CName,loc=2)\n",
        "    ax2.set_xlabel('Time (ms)')\n",
        "    ax2.set_ylabel('Vm (mV)')\n",
        "    plot_single()\n",
        "    with out:\n",
        "        clear_output(wait=True)\n",
        "        display(ax.figure)\n",
        "\n",
        "def plot_single(*arg):\n",
        "    ax3.clear()\n",
        "    ax3.plot(t_vec,v_vec[w_cell_tab.selected_index])\n",
        "    ax3.set_xlim(0,h.tstop)\n",
        "    ax3.set_ylim(-100,80)\n",
        "    ax3.legend([CName[w_cell_tab.selected_index]],loc=2)\n",
        "    ax3.set_xlabel('Time (ms)')\n",
        "    ax3.set_ylabel('Vm (mV)')\n",
        "    if arg:\n",
        "        with out:\n",
        "            clear_output(wait=True)\n",
        "            display(ax.figure)"
      ]
    },
    {
      "cell_type": "code",
      "execution_count": null,
      "metadata": {
        "colab": {
          "base_uri": "https://localhost:8080/",
          "height": 943
        },
        "id": "IpIr8FuIywoM",
        "outputId": "3b68c400-c70e-4332-8cd2-42a9fd62d559",
        "scrolled": false
      },
      "outputs": [
        {
          "ename": "IndexError",
          "evalue": "list assignment index out of range",
          "output_type": "error",
          "traceback": [
            "\u001b[0;31m---------------------------------------------------------------------------\u001b[0m",
            "\u001b[0;31mIndexError\u001b[0m                                Traceback (most recent call last)",
            "Cell \u001b[0;32mIn[8], line 30\u001b[0m\n\u001b[1;32m     28\u001b[0m     w_syncon[syn\u001b[38;5;241m.\u001b[39mpre][\u001b[38;5;241m-\u001b[39m\u001b[38;5;241m1\u001b[39m]\u001b[38;5;241m.\u001b[39mpost \u001b[38;5;241m=\u001b[39m syn\u001b[38;5;241m.\u001b[39mpost\n\u001b[1;32m     29\u001b[0m     dict_arg[Var(\u001b[38;5;124m'\u001b[39m\u001b[38;5;124msyn\u001b[39m\u001b[38;5;124m'\u001b[39m,syn\u001b[38;5;241m.\u001b[39mpre,syn\u001b[38;5;241m.\u001b[39mpost)] \u001b[38;5;241m=\u001b[39m w_syncon[syn\u001b[38;5;241m.\u001b[39mpre][\u001b[38;5;241m-\u001b[39m\u001b[38;5;241m1\u001b[39m]\n\u001b[0;32m---> 30\u001b[0m     \u001b[43mw_child_tab\u001b[49m\u001b[43m[\u001b[49m\u001b[43msyn\u001b[49m\u001b[38;5;241;43m.\u001b[39;49m\u001b[43mpre\u001b[49m\u001b[43m]\u001b[49m\u001b[38;5;241;43m.\u001b[39;49m\u001b[43mset_title\u001b[49m\u001b[43m(\u001b[49m\u001b[38;5;28;43mlen\u001b[39;49m\u001b[43m(\u001b[49m\u001b[43mw_syncon\u001b[49m\u001b[43m[\u001b[49m\u001b[43msyn\u001b[49m\u001b[38;5;241;43m.\u001b[39;49m\u001b[43mpre\u001b[49m\u001b[43m]\u001b[49m\u001b[43m)\u001b[49m\u001b[38;5;241;43m-\u001b[39;49m\u001b[38;5;241;43m1\u001b[39;49m\u001b[43m,\u001b[49m\u001b[43mCName\u001b[49m\u001b[43m[\u001b[49m\u001b[43msyn\u001b[49m\u001b[38;5;241;43m.\u001b[39;49m\u001b[43mpost\u001b[49m\u001b[43m]\u001b[49m\u001b[43m)\u001b[49m\n\u001b[1;32m     32\u001b[0m \u001b[38;5;28;01mdef\u001b[39;00m \u001b[38;5;21mcreate_tab_layout\u001b[39m(amp,dur,delay,tab,prename):\n\u001b[1;32m     33\u001b[0m     line1 \u001b[38;5;241m=\u001b[39m VBox([Labels[\u001b[38;5;241m2\u001b[39m], HBox([ Labels[\u001b[38;5;241m3\u001b[39m],amp,itemgap,Labels[\u001b[38;5;241m4\u001b[39m],dur,itemgap,Labels[\u001b[38;5;241m5\u001b[39m],delay ]) ])\n",
            "File \u001b[0;32m~/opt/anaconda3/envs/bmtk/lib/python3.8/site-packages/ipywidgets/widgets/widget_selectioncontainer.py:69\u001b[0m, in \u001b[0;36m_SelectionContainer.set_title\u001b[0;34m(self, index, title)\u001b[0m\n\u001b[1;32m     67\u001b[0m \u001b[38;5;28;01mif\u001b[39;00m title \u001b[38;5;129;01mis\u001b[39;00m \u001b[38;5;28;01mNone\u001b[39;00m:\n\u001b[1;32m     68\u001b[0m     title \u001b[38;5;241m=\u001b[39m \u001b[38;5;124m'\u001b[39m\u001b[38;5;124m'\u001b[39m\n\u001b[0;32m---> 69\u001b[0m \u001b[43mtitles\u001b[49m\u001b[43m[\u001b[49m\u001b[43mindex\u001b[49m\u001b[43m]\u001b[49m\u001b[38;5;241m=\u001b[39mtitle\n\u001b[1;32m     70\u001b[0m \u001b[38;5;28mself\u001b[39m\u001b[38;5;241m.\u001b[39mtitles \u001b[38;5;241m=\u001b[39m \u001b[38;5;28mtuple\u001b[39m(titles)\n",
            "\u001b[0;31mIndexError\u001b[0m: list assignment index out of range"
          ]
        }
      ],
      "source": [
        "import ipywidgets as widgets\n",
        "from ipywidgets import interactive_output,HBox,VBox,Label,Layout\n",
        "from IPython.display import display, clear_output\n",
        "%matplotlib inline\n",
        "\n",
        "labels = ['Horse gait / Pattern:  ','Pre-synaptic cell: ','Current Clamp:','Amplitude (nA):','Duration (ms):','Delay (ms):',\n",
        "          'Synapses parameters:','Excitatory synaptic weight:','Inhibitory synaptic weight:','Synaptic delay (ms):']\n",
        "Labels = [Label(L) for L in labels]\n",
        "itemgap = Label(' ',layout=Layout(width='20px'))\n",
        "linegap = Label(' ',layout=Layout(height='10px'))\n",
        "short_textbox = Layout(width='10%')\n",
        "\n",
        "w_gait = widgets.ToggleButtons(value=Gaits[1],options=Gaits,button_style='info')\n",
        "w_exc_wgt = widgets.BoundedFloatText(value=syn_wgt,min=0,max=1e3,step=1,layout=short_textbox)\n",
        "w_inh_wgt = widgets.BoundedFloatText(value=syn_wgt,min=0,max=1e3,step=1,layout=short_textbox)\n",
        "w_syn_del = widgets.BoundedFloatText(value=syn_del,min=0,max=1e3,step=1,layout=short_textbox)\n",
        "w_ccl_amp = []\n",
        "w_ccl_dur = []\n",
        "w_ccl_del = []\n",
        "w_syncon = [[] for i in range(NCell)]\n",
        "cell_tab = []\n",
        "w_cell_tab = widgets.Tab()\n",
        "w_child_tab = [widgets.Tab() for i in range(NCell)]\n",
        "dict_arg = {}\n",
        "\n",
        "for syn in SynCon:\n",
        "    w_syncon[syn.pre].append(widgets.ToggleButtons(value=0,options=[('None',0),('Excitatory',1),('Inhibitory',-1)]))\n",
        "    w_syncon[syn.pre][-1].post = syn.post\n",
        "    dict_arg[Var('syn',syn.pre,syn.post)] = w_syncon[syn.pre][-1]\n",
        "    w_child_tab[syn.pre].set_title(len(w_syncon[syn.pre])-1,CName[syn.post])\n",
        "\n",
        "def create_tab_layout(amp,dur,delay,tab,prename):\n",
        "    line1 = VBox([Labels[2], HBox([ Labels[3],amp,itemgap,Labels[4],dur,itemgap,Labels[5],delay ]) ])\n",
        "    line2 = VBox([Labels[6], HBox([ Labels[7],w_exc_wgt,itemgap,Labels[8],w_inh_wgt,itemgap,Labels[9],w_syn_del ]) ])\n",
        "    line3 = VBox([Label('Synapse type from '+prename+' to (post-synaptic cell): '),tab])\n",
        "    return VBox([line1,linegap,line2,linegap,line3])\n",
        "\n",
        "for i in range(NCell):\n",
        "    w_ccl_amp.append(widgets.FloatText(value=0,step=0.1,layout=short_textbox))\n",
        "    w_ccl_dur.append(widgets.BoundedFloatText(value=5,min=0,max=1e3,step=1,layout=short_textbox))\n",
        "    w_ccl_del.append(widgets.BoundedFloatText(value=100,min=0,max=1e3,step=1,layout=short_textbox))\n",
        "    w_child_tab[i].children = w_syncon[i]\n",
        "    cell_tab.append( create_tab_layout(w_ccl_amp[-1],w_ccl_dur[-1],w_ccl_del[-1],w_child_tab[i],CName[i]) )\n",
        "    w_cell_tab.set_title(i,CName[i])\n",
        "w_cell_tab.children = cell_tab\n",
        "w_cell_tab.observe(plot_single,'selected_index')\n",
        "\n",
        "def set_pattern(*args):\n",
        "    gait = w_gait.value\n",
        "    C_C = Ccl_Config[gait]\n",
        "    for i in range(NCell):\n",
        "        w_ccl_amp[i].value = C_C[i,0]\n",
        "        w_ccl_dur[i].value = C_C[i,1]\n",
        "        w_ccl_del[i].value = C_C[i,2]\n",
        "    for pre, w_presyn in enumerate(w_syncon):\n",
        "        for w_syn in w_presyn:\n",
        "            w_syn.value = Conn_Matrix[gait][pre,w_syn.post]\n",
        "    w_exc_wgt.value = syn_wgt if gait!=Gaits[0] else 40;\n",
        "    w_inh_wgt.value = syn_wgt\n",
        "    w_syn_del.value = syn_del\n",
        "w_gait.observe(set_pattern,'value')\n",
        "\n",
        "run_button = widgets.Button(description='Run & Show!',icon='play-circle',button_style='success')\n",
        "run_button.on_click(plot_variables)\n",
        "\n",
        "set_pattern()\n",
        "out = interactive_output(plot_net,dict_arg)\n",
        "plot_variables()\n",
        "ui = VBox([HBox([Labels[0],itemgap,w_gait]),Labels[1],w_cell_tab,run_button,out])\n",
        "display(ui)"
      ]
    },
    {
      "cell_type": "markdown",
      "metadata": {
        "id": "LIHnEsrCywoO"
      },
      "source": [
        "### Questions:\n",
        "<hr>\n",
        "1. First remove all connections and convince yourself that the firing patterns of all the four neurons are identical. Next, click on ‘Walk’, and then ‘Run & Show!’. Explain how the synaptic connections implement the walk gait. Also, explain how the signal propagates. How will you slow down the pace of walking – only explain, no plot needed for this.  \n",
        "<br>\n",
        "\n",
        "**The connections create a loop from L1 R2 R1 L2 L1. When any one neuron fires, it inhibits the others, this leads to 1 neuron firing at a time in the connected loop.**\n",
        "<br>\n",
        "**To slow down the pace of walking, you can increase the synaptic delay time.**\n",
        "<hr>\n",
        "2. Now explain how the synaptic connections implement the “Wave of Activation”. What is the logic to speed it up or slow it down?  \n",
        "<br>\n",
        "\n",
        "**These connections create a loop from L1 L2 R1 R2 R1 L2 L1. There are no inhibitory connections in this loop so more than one neuron can be firing at the same time. There are multiple overlapping loops leading to oscillatory propagation through the chain.**\n",
        "<br>\n",
        "**To slow down the pace of the wave, you can increase the synaptic delay time.**\n",
        "<hr>\n",
        "3. Now explain how the synaptic connections implement the “Trot” gait, in a similar manner.  \n",
        "<br>\n",
        "\n",
        "**The trot gait consists of oscillations of L1,R2 and R1,L2 with each inhibiting the the other. With delayed stimulation to both sides of the loops it creates a new oscillation between L1+R2 with L2+R1.**\n",
        "<hr>\n",
        "4. Finally, using the ideas from above, you are to design the connections for the ‘Pace’ gait. Use a weight of 100 for all the connections you make. Explain your LOGIC clearly (important) and include a plot of connections and of the spiking patterns of all four neurons (one of the plots on the screen).\n",
        "<br>\n",
        "\n",
        "**Pace1.png: Uses Trot gate concepts with oscillation of L1+L2 with R1+R2.**<br>\n",
        "**Pace2.png: Uses Trot Gate with same connections but with altered initial stim offset.**<br>\n",
        "**Pace3.png: Uses 2 reciprocally excitatory pairs to alternate Left to Right.** <br>\n"
      ]
    },
    {
      "cell_type": "markdown",
      "source": [
        "![pace1](https://raw.githubusercontent.com/cyneuro/Notebook-Solutions/refs/heads/main/Basics-of-Neurons-and-Networks/S5_CPG/Pace1.png)\n",
        "\n",
        "![pace2](https://raw.githubusercontent.com/cyneuro/Notebook-Solutions/refs/heads/main/Basics-of-Neurons-and-Networks/S5_CPG/Pace2.png)\n",
        "\n",
        "![pace3](https://raw.githubusercontent.com/cyneuro/Notebook-Solutions/refs/heads/main/Basics-of-Neurons-and-Networks/S5_CPG/Pace3.png)\n"
      ],
      "metadata": {
        "id": "EJmZtweSvjFb"
      }
    }
  ],
  "metadata": {
    "colab": {
      "name": "S5_CPG.ipynb",
      "provenance": []
    },
    "kernelspec": {
      "display_name": "Python 3",
      "language": "python",
      "name": "python3"
    },
    "language_info": {
      "codemirror_mode": {
        "name": "ipython",
        "version": 3
      },
      "file_extension": ".py",
      "mimetype": "text/x-python",
      "name": "python",
      "nbconvert_exporter": "python",
      "pygments_lexer": "ipython3",
      "version": "3.8.16"
    }
  },
  "nbformat": 4,
  "nbformat_minor": 0
}